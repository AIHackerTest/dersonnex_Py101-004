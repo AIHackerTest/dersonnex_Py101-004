{
 "cells": [
  {
   "cell_type": "code",
   "execution_count": null,
   "metadata": {
    "collapsed": true
   },
   "outputs": [],
   "source": []
  },
  {
   "cell_type": "markdown",
   "metadata": {},
   "source": [
    "# python 编程\n",
    "\n",
    "## 程序语言我该学哪种\n",
    "\n",
    "新手想学编程，最常问的就是：我该学什么语言？\n",
    "事实是，先找一门程序语言，开始学，开始写代码。\n",
    "\n",
    "## 程序语言的共性：万变不离其宗\n",
    "\n",
    "### 常见要素\n",
    "1.数据类型\n",
    "2.变量\n",
    "3.函数\n",
    "4.条件语句\n",
    "5.循环语句\n",
    "6.算术运算\n",
    "\n",
    "*机器和人的不同：机器执行语言是按照指令\n",
    "\n",
    "## python 输出显示命令"
   ]
  },
  {
   "cell_type": "code",
   "execution_count": 4,
   "metadata": {
    "scrolled": true
   },
   "outputs": [
    {
     "name": "stdout",
     "output_type": "stream",
     "text": [
      "hello world\n"
     ]
    }
   ],
   "source": [
    "print(\"hello world\")"
   ]
  },
  {
   "cell_type": "markdown",
   "metadata": {},
   "source": []
  }
 ],
 "metadata": {
  "kernelspec": {
   "display_name": "Python 3",
   "language": "python",
   "name": "python3"
  },
  "language_info": {
   "codemirror_mode": {
    "name": "ipython",
    "version": 3
   },
   "file_extension": ".py",
   "mimetype": "text/x-python",
   "name": "python",
   "nbconvert_exporter": "python",
   "pygments_lexer": "ipython3",
   "version": "3.6.1"
  }
 },
 "nbformat": 4,
 "nbformat_minor": 2
}
