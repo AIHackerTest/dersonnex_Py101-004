{
 "cells": [
  {
   "cell_type": "code",
   "execution_count": null,
   "metadata": {
    "collapsed": true
   },
   "outputs": [],
   "source": []
  },
  {
   "cell_type": "markdown",
   "metadata": {},
   "source": [
    "# python 编程\n",
    "\n",
    "## 程序语言我该学哪种\n",
    "\n",
    "新手想学编程，最常问的就是：我该学什么语言？\n",
    "事实是，先找一门程序语言，开始学，开始写代码。\n",
    "\n",
    "## 程序语言的共性：万变不离其宗\n",
    "\n",
    "### 常见要素\n",
    "1.数据类型\n",
    "2.变量\n",
    "3.函数\n",
    "4.条件语句\n",
    "5.循环语句\n",
    "6.算术运算\n",
    "\n",
    "*机器和人的不同：机器执行语言是按照指令\n",
    "\n",
    "## python 输出显示命令"
   ]
  },
  {
   "cell_type": "code",
   "execution_count": 1,
   "metadata": {
    "scrolled": true
   },
   "outputs": [
    {
     "name": "stdout",
     "output_type": "stream",
     "text": [
      "hello world\n"
     ]
    }
   ],
   "source": [
    "print(\"hello world\")"
   ]
  },
  {
   "cell_type": "markdown",
   "metadata": {},
   "source": [
    "# 任务要求\n",
    "\n",
    "ch1 目标：完成首个 MVP\n",
    "未来 7 周，你将逐步完成一个公网版天气查询程序，亲朋好友都能使用你开发的产品。\n",
    "如何起步？先验证、跑通核心功能，完成第一个天气查询程序的 MVP 。完成本章，你将学会：\n",
    "使用 MVP 思维开发\n",
    "从文件中读取数据\n",
    "使用不同的数据类型\n",
    "在命令行界面和程序交互\n",
    "\n",
    "# 任务描述\n",
    "请在 2wd1 170821 11:42 前，完成一个最简天气查询程序，运行在命令行界面，实现以下功能：\n",
    "输入城市名，返回该城市的天气数据；\n",
    "输入指令，打印帮助文档（一般使用 h 或 help）；\n",
    "输入指令，退出程序的交互（一般使用 quit 或 exit）；\n",
    "在退出程序之前，打印查询过的所有城市。\n",
    "\n",
    "所用天气数据见 https://github.com/AIHackers/Py101-004/tree/master/Chap1/resource 中 weather_info.txt 文件。\n",
    "Ps. 不要忘了编写个人教程，梳理相关技能点。\n"
   ]
  },
  {
   "cell_type": "markdown",
   "metadata": {},
   "source": [
    "# 项目1 天气查询\n",
    "\n",
    "\n",
    "\n",
    "## 思路0 \n",
    "\n",
    "- 天气实现需要完成哪些功能\n",
    "\n",
    "1.输入城市名，显示天气\n",
    "\n",
    "2.输入帮助，显示帮助文档\n",
    "\n",
    "3.输入退出命令，退出程序交互\n",
    "\n",
    "4.退出程序前，打印查询过的天气\n",
    "\n",
    "*核心功能：输入城市名，显示天气*"
   ]
  },
  {
   "cell_type": "markdown",
   "metadata": {},
   "source": [
    "- 开发计划\n",
    "\n",
    "**初步实现思路**--如何进一步实现\n",
    "\n",
    "0.实现**持续**人机交互，程序需要循环接受用户输入并判断，需要加入循环\n",
    "\n",
    "1.查询数据A得到所需数据B---*了解实现方法*\n",
    "\n",
    "2.使用input()接收输入，用if语句判断输入，使用print打印文本\n",
    "\n",
    "3.使用input（）接收输入，得到退出命令后，退出程序---*需要了解如何退出程序*\n",
    "\n",
    "4.存储所有查询到数据，并打印出来--*了解如何保存用户输入结果*\n",
    "\n",
    "计划难度：4>1>3>2>0"
   ]
  },
  {
   "cell_type": "code",
   "execution_count": 3,
   "metadata": {
    "scrolled": true
   },
   "outputs": [
    {
     "name": "stdout",
     "output_type": "stream",
     "text": [
      "<function help at 0x10bb71730>\n"
     ]
    }
   ],
   "source": [
    "def help():\n",
    "    print('''\n",
    "    Tips:\n",
    "    - 输入城市名，查询该城市天气数据；\n",
    "    - 输入指令help,打印帮助文档；\n",
    "    - 输入指令quit, 退出程序交互。\n",
    "    ''')\n",
    "\n",
    "print(help)"
   ]
  },
  {
   "cell_type": "code",
   "execution_count": null,
   "metadata": {
    "collapsed": true
   },
   "outputs": [],
   "source": [
    "#!/user/bin/env python3\n",
    "#coding:utf-8\n",
    "\n",
    "import sys\n",
    "from sys import exit\n",
    "filename = \"weather_info.txt\"\n",
    "\n",
    "print('输入城市名查询天气，或输入“help“查看用户帮助指南，或输入“quit”退出程序')\n",
    "\n",
    "city =\n",
    "\n",
    "def help():\n",
    "    print('''\n",
    "    Tips:\n",
    "    - 输入城市名，查询该城市天气数据；\n",
    "    - 输入指令help,打印帮助文档；\n",
    "    - 输入指令quit, 退出程序交互。\n",
    "    ''')\n",
    "# 打印帮助文档\n",
    "\n",
    "while True:\n",
    "\tuser_input = input('请输入指令：')\n",
    "\tif user_input == 'quit' or user_input == 'q':\n",
    "       print(\"你的查询记录是：\\n\",history) \n",
    "       break\n",
    "\telif user_input == 'help'：\n",
    "\n",
    "\telse:\n"
   ]
  },
  {
   "cell_type": "markdown",
   "metadata": {},
   "source": [
    "\n",
    "\n",
    "## 2 实现三种，显示天气数据、显示帮助文档、退出程序\n",
    "\n",
    "*用while语句表述,并用if判断输出* 2wd1 30min\n",
    "\n",
    "- Q1:读取天气文件\n",
    "\n",
    "  A1：应用python 打开f.open(文件名，打开方式，编码)\n",
    "  \n",
    "     读取内容f.read()\n",
    "     关闭文件f.close()\n",
    "\n",
    "- Q2:读取帮助文档\n",
    "    A2:\n",
    "    \n",
    "- Q3:退出程序\n",
    "    A3:break，用打断循环方式退出程序\n"
   ]
  }
 ],
 "metadata": {
  "kernelspec": {
   "display_name": "Python 3",
   "language": "python",
   "name": "python3"
  },
  "language_info": {
   "codemirror_mode": {
    "name": "ipython",
    "version": 3
   },
   "file_extension": ".py",
   "mimetype": "text/x-python",
   "name": "python",
   "nbconvert_exporter": "python",
   "pygments_lexer": "ipython3",
   "version": "3.6.1"
  },
  "widgets": {
   "application/vnd.jupyter.widget-state+json": {
    "state": {},
    "version_major": 1,
    "version_minor": 0
   }
  }
 },
 "nbformat": 4,
 "nbformat_minor": 2
}
